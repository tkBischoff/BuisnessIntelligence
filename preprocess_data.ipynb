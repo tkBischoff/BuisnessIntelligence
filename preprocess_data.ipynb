{
 "cells": [
  {
   "cell_type": "code",
   "execution_count": 1,
   "id": "1b4bb915-94d4-44d6-8aa2-5d468062ef20",
   "metadata": {
    "tags": []
   },
   "outputs": [],
   "source": [
    "import pandas as pd"
   ]
  },
  {
   "cell_type": "markdown",
   "id": "4a165a47-1305-481a-abde-5f230e5084eb",
   "metadata": {},
   "source": [
    "### merge state names on population"
   ]
  },
  {
   "cell_type": "code",
   "execution_count": 47,
   "id": "9ec09d2e-c9f7-40cd-8c52-f245da762951",
   "metadata": {
    "tags": []
   },
   "outputs": [],
   "source": [
    "abbr = pd.read_csv('data/state-abbrevs.csv')\n",
    "pop = pd.read_csv('data/state-population.csv')\n",
    "\n",
    "abbr = abbr.set_index('abbreviation', drop=True)\n",
    "pop = pop.set_index('state/region', drop=True)\n",
    "\n",
    "pop = pop.join(abbr)\n",
    "pop = pop.dropna()\n",
    "pop = pop.astype({'population': int})\n",
    "pop = pop.reset_index(drop=True)\n",
    "\n",
    "pop.to_csv('data/state-population-merged.csv', header=False)"
   ]
  },
  {
   "cell_type": "code",
   "execution_count": 55,
   "id": "ca49b435-a07f-4be4-b670-655d30431506",
   "metadata": {
    "tags": []
   },
   "outputs": [],
   "source": [
    "vals = pop['state'].unique()\n",
    "vals = list(vals)\n",
    "vals_ = sorted(vals, key=lambda s: len(s.split()))"
   ]
  },
  {
   "cell_type": "code",
   "execution_count": 58,
   "id": "0d6aada7-658d-466d-882d-c4a4a7aead45",
   "metadata": {
    "tags": []
   },
   "outputs": [
    {
     "data": {
      "text/plain": [
       "20"
      ]
     },
     "execution_count": 58,
     "metadata": {},
     "output_type": "execute_result"
    }
   ],
   "source": [
    "len(vals_[-1])"
   ]
  },
  {
   "cell_type": "code",
   "execution_count": null,
   "id": "8cb3bf24-842d-41ca-9753-6ad671814fd9",
   "metadata": {},
   "outputs": [],
   "source": []
  },
  {
   "cell_type": "code",
   "execution_count": null,
   "id": "94d3bc56-fd40-4a11-9b6c-5565d96ea56b",
   "metadata": {},
   "outputs": [],
   "source": []
  },
  {
   "cell_type": "code",
   "execution_count": 127,
   "id": "322980b7-dabc-44a9-9f85-9e342fbde7f5",
   "metadata": {
    "tags": []
   },
   "outputs": [],
   "source": [
    "cities = pd.read_csv('data/uscities.csv', usecols=['city_ascii', 'state_name', 'county_name', 'population'])"
   ]
  },
  {
   "cell_type": "code",
   "execution_count": 128,
   "id": "0cee4671-2a35-401f-86df-8777a7374e48",
   "metadata": {
    "tags": []
   },
   "outputs": [],
   "source": [
    "states = cities[['state_name', 'population']].groupby('state_name').sum().reset_index().reset_index()\n",
    "states = states.rename({'index': 'state_id'}, axis=1)"
   ]
  },
  {
   "cell_type": "code",
   "execution_count": 129,
   "id": "3fcb9b30-012d-420a-bd4a-deb2f8b17b9b",
   "metadata": {
    "tags": []
   },
   "outputs": [],
   "source": [
    "agg = {\n",
    "    'population': 'sum',\n",
    "    'state_name': 'first'\n",
    "}\n",
    "\n",
    "counties = cities[['county_name', 'state_name', 'population']].groupby('county_name').agg(agg).reset_index()\n",
    "counties = pd.merge(counties, states[['state_name', 'state_id']], on='state_name').drop('state_name', axis=1)"
   ]
  },
  {
   "cell_type": "code",
   "execution_count": 130,
   "id": "50c14516-dd29-4b0a-a2f8-2001ab4817a0",
   "metadata": {
    "tags": []
   },
   "outputs": [],
   "source": [
    "cities = pd.merge(cities, states[['state_name', 'state_id']], on='state_name')\n",
    "cities = cities.drop(['state_name', 'county_name'], axis=1)"
   ]
  },
  {
   "cell_type": "code",
   "execution_count": 131,
   "id": "424c8660-8a9d-4f26-8303-30a4495c30fc",
   "metadata": {
    "tags": []
   },
   "outputs": [],
   "source": [
    "cities.to_csv('data/cities.csv')\n",
    "states.to_csv('data/states.csv')\n",
    "counties.to_csv('data/counties.csv')"
   ]
  },
  {
   "cell_type": "code",
   "execution_count": 132,
   "id": "6b31fde1-160a-426d-b35e-8c27980210cb",
   "metadata": {
    "tags": []
   },
   "outputs": [
    {
     "data": {
      "text/html": [
       "<div>\n",
       "<style scoped>\n",
       "    .dataframe tbody tr th:only-of-type {\n",
       "        vertical-align: middle;\n",
       "    }\n",
       "\n",
       "    .dataframe tbody tr th {\n",
       "        vertical-align: top;\n",
       "    }\n",
       "\n",
       "    .dataframe thead th {\n",
       "        text-align: right;\n",
       "    }\n",
       "</style>\n",
       "<table border=\"1\" class=\"dataframe\">\n",
       "  <thead>\n",
       "    <tr style=\"text-align: right;\">\n",
       "      <th></th>\n",
       "      <th>county_name</th>\n",
       "      <th>population</th>\n",
       "      <th>state_id</th>\n",
       "    </tr>\n",
       "  </thead>\n",
       "  <tbody>\n",
       "    <tr>\n",
       "      <th>0</th>\n",
       "      <td>Abbeville</td>\n",
       "      <td>9703</td>\n",
       "      <td>41</td>\n",
       "    </tr>\n",
       "    <tr>\n",
       "      <th>1</th>\n",
       "      <td>Aiken</td>\n",
       "      <td>84154</td>\n",
       "      <td>41</td>\n",
       "    </tr>\n",
       "    <tr>\n",
       "      <th>2</th>\n",
       "      <td>Allendale</td>\n",
       "      <td>5168</td>\n",
       "      <td>41</td>\n",
       "    </tr>\n",
       "    <tr>\n",
       "      <th>3</th>\n",
       "      <td>Anderson</td>\n",
       "      <td>221781</td>\n",
       "      <td>41</td>\n",
       "    </tr>\n",
       "    <tr>\n",
       "      <th>4</th>\n",
       "      <td>Bamberg</td>\n",
       "      <td>6978</td>\n",
       "      <td>41</td>\n",
       "    </tr>\n",
       "    <tr>\n",
       "      <th>...</th>\n",
       "      <td>...</td>\n",
       "      <td>...</td>\n",
       "      <td>...</td>\n",
       "    </tr>\n",
       "    <tr>\n",
       "      <th>1901</th>\n",
       "      <td>Kauai</td>\n",
       "      <td>68963</td>\n",
       "      <td>11</td>\n",
       "    </tr>\n",
       "    <tr>\n",
       "      <th>1902</th>\n",
       "      <td>Maui</td>\n",
       "      <td>160523</td>\n",
       "      <td>11</td>\n",
       "    </tr>\n",
       "    <tr>\n",
       "      <th>1903</th>\n",
       "      <td>New Castle</td>\n",
       "      <td>265575</td>\n",
       "      <td>7</td>\n",
       "    </tr>\n",
       "    <tr>\n",
       "      <th>1904</th>\n",
       "      <td>Newport</td>\n",
       "      <td>39063</td>\n",
       "      <td>40</td>\n",
       "    </tr>\n",
       "    <tr>\n",
       "      <th>1905</th>\n",
       "      <td>Providence</td>\n",
       "      <td>1579853</td>\n",
       "      <td>40</td>\n",
       "    </tr>\n",
       "  </tbody>\n",
       "</table>\n",
       "<p>1906 rows × 3 columns</p>\n",
       "</div>"
      ],
      "text/plain": [
       "     county_name  population  state_id\n",
       "0      Abbeville        9703        41\n",
       "1          Aiken       84154        41\n",
       "2      Allendale        5168        41\n",
       "3       Anderson      221781        41\n",
       "4        Bamberg        6978        41\n",
       "...          ...         ...       ...\n",
       "1901       Kauai       68963        11\n",
       "1902        Maui      160523        11\n",
       "1903  New Castle      265575         7\n",
       "1904     Newport       39063        40\n",
       "1905  Providence     1579853        40\n",
       "\n",
       "[1906 rows x 3 columns]"
      ]
     },
     "execution_count": 132,
     "metadata": {},
     "output_type": "execute_result"
    }
   ],
   "source": [
    "counties"
   ]
  },
  {
   "cell_type": "code",
   "execution_count": null,
   "id": "c5522646-09f5-40f8-922a-712c1e34ac4b",
   "metadata": {},
   "outputs": [],
   "source": []
  }
 ],
 "metadata": {
  "kernelspec": {
   "display_name": "deep_learning",
   "language": "python",
   "name": "deep_learning"
  },
  "language_info": {
   "codemirror_mode": {
    "name": "ipython",
    "version": 3
   },
   "file_extension": ".py",
   "mimetype": "text/x-python",
   "name": "python",
   "nbconvert_exporter": "python",
   "pygments_lexer": "ipython3",
   "version": "3.11.5"
  }
 },
 "nbformat": 4,
 "nbformat_minor": 5
}
