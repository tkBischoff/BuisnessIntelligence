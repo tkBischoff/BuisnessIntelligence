{
 "cells": [
  {
   "cell_type": "code",
   "execution_count": 45,
   "id": "1b4bb915-94d4-44d6-8aa2-5d468062ef20",
   "metadata": {
    "tags": []
   },
   "outputs": [],
   "source": [
    "import pandas as pd"
   ]
  },
  {
   "cell_type": "markdown",
   "id": "4a165a47-1305-481a-abde-5f230e5084eb",
   "metadata": {},
   "source": [
    "### merge state names on population"
   ]
  },
  {
   "cell_type": "code",
   "execution_count": 47,
   "id": "9ec09d2e-c9f7-40cd-8c52-f245da762951",
   "metadata": {
    "tags": []
   },
   "outputs": [],
   "source": [
    "abbr = pd.read_csv('data/state-abbrevs.csv')\n",
    "pop = pd.read_csv('data/state-population.csv')\n",
    "\n",
    "abbr = abbr.set_index('abbreviation', drop=True)\n",
    "pop = pop.set_index('state/region', drop=True)\n",
    "\n",
    "pop = pop.join(abbr)\n",
    "pop = pop.dropna()\n",
    "pop = pop.astype({'population': int})\n",
    "pop = pop.reset_index(drop=True)\n",
    "\n",
    "pop.to_csv('data/state-population-merged.csv', header=False)"
   ]
  },
  {
   "cell_type": "code",
   "execution_count": 40,
   "id": "ca49b435-a07f-4be4-b670-655d30431506",
   "metadata": {
    "tags": []
   },
   "outputs": [],
   "source": []
  }
 ],
 "metadata": {
  "kernelspec": {
   "display_name": "deep_learning",
   "language": "python",
   "name": "deep_learning"
  },
  "language_info": {
   "codemirror_mode": {
    "name": "ipython",
    "version": 3
   },
   "file_extension": ".py",
   "mimetype": "text/x-python",
   "name": "python",
   "nbconvert_exporter": "python",
   "pygments_lexer": "ipython3",
   "version": "3.11.5"
  }
 },
 "nbformat": 4,
 "nbformat_minor": 5
}
